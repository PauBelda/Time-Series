{
 "cells": [
  {
   "cell_type": "markdown",
   "metadata": {},
   "source": [
    "<h1>Problem Set 2</h1> \n",
    "<h3><center>Time Series</center></h3>\n",
    "<br>\n",
    "<center>Pau Belda-i-Tortosa</center>  |\n",
    "<center>March 2019</center>\n",
    "\n",
    "<br>\n",
    "<br>\n",
    "\n",
    "<h4>Q6.- AR(p) estimation with General-to-Specific selection method. </h4>\n",
    "\n",
    "<h5> Construct a function that for a given data, i) selects the order k using the General-to-Specific selection method corresponding to an AR specification and ii) estimates the corresponding AR(k) process using OLS. The input of the function should be your data and the maximum lag for the AR. The output should be k and the estimates and variances of the estimates.</h5>"
   ]
  },
  {
   "cell_type": "code",
   "execution_count": 1,
   "metadata": {},
   "outputs": [],
   "source": [
    "def gts(data,p):\n",
    "    import numpy as np\n",
    "    r=0.05\n",
    "    p_val=0.1\n",
    "    count=0\n",
    "    \n",
    "    while p_val>r:\n",
    "        k=p-count\n",
    "        # Dependent variable\n",
    "        y = data[0+k:]    \n",
    "        #Matrix of regressors\n",
    "        ylag=np.empty((len(y),k))\n",
    "        for j in range(1,k):\n",
    "            ylag[:,j]=data[0+k-j:-j]\n",
    "        x=np.ones((len(y),1))\n",
    "        z=np.concatenate((x,ylag),axis=1)\n",
    "\n",
    "           \n",
    "        #Number of periods and regressors\n",
    "        t= len(z)\n",
    "        k= len(z)\n",
    "        \n",
    "        #Parameter estimates\n",
    "        a=np.linalg.inv(np.matmul(z.transpose,z))\n",
    "        b=np.matmul(z.transpose,y)\n",
    "        phi_hat =np.matmul(a,b)\n",
    "\n",
    "        #Predicted y\n",
    "        y_hat = z*phi_hat\n",
    "\n",
    "        #Residuals\n",
    "        e_hat = y-y_hat\n",
    "        \n",
    "        #Sum of squared residuals\n",
    "        SSR = e_hat.transpose*e_hat\n",
    "        \n",
    "        #Estimate of the variance of the error\n",
    "        var_e = SSR/(t-k);\n",
    "\n",
    "        #Variance-covariance matrix of the parameter estimates\n",
    "        var_cov_phi = var_e*np.linalg.inv(np.matmul(z.transpose,z))\n",
    "        \n",
    "        #Test statistical significance (t-test)\n",
    "        \t# calculate the t statistic\n",
    "        t_stat = (phi_hat[-1]*pow(len(y),0.5))/ np.std(y)\n",
    "        \t# degrees of freedom\n",
    "        df = len(y) -1\n",
    "        \t# calculate the p-value\n",
    "        p_val= (1.0 - t.cdf(abs(t_stat), df)) * 2.0\n",
    "        count=+1\n",
    "        \n",
    "    order=p-count\n",
    "    return phi_hat, var_cov_phi,order"
   ]
  },
  {
   "cell_type": "markdown",
   "metadata": {},
   "source": [
    "<h4>Q7.- Montecarlo Simulation and OLS properties. </h4>\n",
    "\n"
   ]
  },
  {
   "cell_type": "code",
   "execution_count": 6,
   "metadata": {},
   "outputs": [],
   "source": [
    "#Import packages\n",
    "import numpy as np\n",
    "import random\n",
    "import matplotlib.pyplot as plt\n",
    "import pylab \n",
    "import scipy.stats as stats\n",
    "\n",
    "#Fix the seed\n",
    "np.random.seed( 10 )\n",
    "random.seed(10)\n",
    "\n",
    "#Define a function with the sample size and the true parameter value as inputs\n",
    "def Montecarlo(phi,n):\n",
    "    phi_h=[]\n",
    "    for m in range(1000):\n",
    "        y=np.empty((n));\n",
    "        y[0]=1;\n",
    "        e=np.random.normal(0,1,n)\n",
    "        for t in range(1,n):\n",
    "            y[t]=phi*y[t-1] + e[t];\n",
    "        \n",
    "        num=np.empty((n))\n",
    "        den=np.empty((n))\n",
    "        for t in range(2,n):\n",
    "            num[t]=y[t]*y[t-1];\n",
    "            den[t]=y[t-1]*y[t-1];\n",
    "            \n",
    "        phi_hat=np.sum(num)/np.sum(den);\n",
    "        \n",
    "        phi_h.append(phi_hat);\n",
    "    return phi_h\n",
    "\n",
    "phi_1=Montecarlo(0.3,100);\n",
    "phi_2=Montecarlo(0.8,1000);\n",
    "phi_3=Montecarlo(0.98,1000);\n",
    "\n",
    "#There are a few outliers. Remove them!\n",
    "for t in range(1000):\n",
    "    if phi_2[t]>2 or phi_2[t]<0.3:\n",
    "        phi_2[t]=phi_2[t-1];\n",
    "    if phi_3[t]>2 or phi_3[t]<0.3:\n",
    "        phi_3[t]=phi_3[t-1];"
   ]
  },
  {
   "cell_type": "code",
   "execution_count": 8,
   "metadata": {},
   "outputs": [
    {
     "data": {
      "image/png": "[encoded data removed]",
      "text/plain": [
       "<Figure size 432x288 with 3 Axes>"
      ]
     },
     "metadata": {},
     "output_type": "display_data"
    }
   ],
   "source": [
    "#Graph\n",
    "plt.figure\n",
    "plt.subplots_adjust(top=0.9, bottom=0, left=0.3, right=1.5, wspace=0.5)\n",
    "plt.suptitle('OLS Histograms')\n",
    "bins=75 #Adjust the number of bins\n",
    "\n",
    "plt.subplot(1,3,1)\n",
    "plt.hist(phi_1, bins)\n",
    "\n",
    "plt.subplot(1,3,2)\n",
    "plt.hist(phi_2, bins)\n",
    "\n",
    "plt.subplot(1,3,3)\n",
    "plt.hist(phi_3, bins)\n",
    "plt.show()"
   ]
  },
  {
   "cell_type": "markdown",
   "metadata": {},
   "source": [
    "OLS-Estimators seem to be consistent and normally distributed. However, when the true parameter value approches 1, the distribution is schewed to the left. Then, there is higher probability of being inconsistent. \n",
    "\n",
    "\n",
    "**Compute the bias and the mean square error**"
   ]
  },
  {
   "cell_type": "code",
   "execution_count": 14,
   "metadata": {},
   "outputs": [
    {
     "data": {
      "text/html": [
       "<div>\n",
       "<style scoped>\n",
       "    .dataframe tbody tr th:only-of-type {\n",
       "        vertical-align: middle;\n",
       "    }\n",
       "\n",
       "    .dataframe tbody tr th {\n",
       "        vertical-align: top;\n",
       "    }\n",
       "\n",
       "    .dataframe thead th {\n",
       "        text-align: right;\n",
       "    }\n",
       "</style>\n",
       "<table border=\"1\" class=\"dataframe\">\n",
       "  <thead>\n",
       "    <tr style=\"text-align: right;\">\n",
       "      <th></th>\n",
       "      <th>ϕ=0.3</th>\n",
       "      <th>ϕ=0.8</th>\n",
       "      <th>ϕ=0.98</th>\n",
       "    </tr>\n",
       "  </thead>\n",
       "  <tbody>\n",
       "    <tr>\n",
       "      <th>Bias</th>\n",
       "      <td>-0.0021</td>\n",
       "      <td>-0.0017</td>\n",
       "      <td>-0.0020</td>\n",
       "    </tr>\n",
       "    <tr>\n",
       "      <th>MSE</th>\n",
       "      <td>0.0086</td>\n",
       "      <td>0.0004</td>\n",
       "      <td>0.0001</td>\n",
       "    </tr>\n",
       "  </tbody>\n",
       "</table>\n",
       "</div>"
      ],
      "text/plain": [
       "       ϕ=0.3   ϕ=0.8  ϕ=0.98\n",
       "Bias -0.0021 -0.0017 -0.0020\n",
       "MSE   0.0086  0.0004  0.0001"
      ]
     },
     "execution_count": 14,
     "metadata": {},
     "output_type": "execute_result"
    }
   ],
   "source": [
    "bia=np.empty((3))\n",
    "phi=[0.3,0.8,0.98]\n",
    "#Average estimator\n",
    "p_1=sum(phi_1)/1000\n",
    "p_2=sum(phi_2)/1000\n",
    "p_3=sum(phi_3)/1000\n",
    "p=[p_1, p_2, p_3]\n",
    "\n",
    "for j in range(3):\n",
    "    bia[j]=p[j]-phi[j]\n",
    "\n",
    "#Vector of biases\n",
    "def bias(phi,v,n):\n",
    "    bias=np.empty((n))\n",
    "    for j in range(n):\n",
    "        bias[j]=v[j]-phi\n",
    "    return bias\n",
    "\n",
    "bias1=bias(0.3,phi_1,100)\n",
    "bias2=bias(0.8,phi_2,1000)\n",
    "bias3=bias(0.98,phi_3,1000)\n",
    "\n",
    "mse11=np.var(phi_1)+ pow(bia[0],2)\n",
    "mse12=np.var(phi_2)+ pow(bia[1],2)\n",
    "mse13=np.var(phi_3)+ pow(bia[2],2)\n",
    "\n",
    "import pandas as pd\n",
    "array=np.array([[round(bia[0],4),round(bia[1],4), round(bia[2],4)],[round(mse11,4),round(mse12,4),round(mse13,4)]])\n",
    "table1=pd.DataFrame(array, index = ['Bias', 'MSE'], columns = ['ϕ=0.3', 'ϕ=0.8', 'ϕ=0.98'])\n",
    "table1"
   ]
  },
  {
   "cell_type": "markdown",
   "metadata": {},
   "source": [
    "The bias is computed with respected to the mean of the estimated $\\hat{\\phi}$. \n",
    "As showed in the table, the bias does not change very much when we change either the size of the sample or the true parameter value. As opposed to that, the MSE decrease (significantly?) with both the size and the true parameter value. \n",
    "\n",
    "Alternatively, one might plot the distribution of the bias, which unsurpraisingly  reproduces the shape of the OLS estimates."
   ]
  },
  {
   "cell_type": "code",
   "execution_count": 19,
   "metadata": {},
   "outputs": [
    {
     "data": {
      "image/png": "[encoded data removed]",
      "text/plain": [
       "<Figure size 432x288 with 3 Axes>"
      ]
     },
     "metadata": {},
     "output_type": "display_data"
    }
   ],
   "source": [
    "plt.figure\n",
    "plt.subplots_adjust(top=0.9, bottom=0, left=0.3, right=1.5, wspace=0.5)\n",
    "plt.suptitle('Bias Histograms')\n",
    "bins=75 #Adjust the number of bins\n",
    "\n",
    "plt.subplot(1,3,1)\n",
    "plt.hist(bias1, bins)\n",
    "\n",
    "plt.subplot(1,3,2)\n",
    "plt.hist(bias2, bins)\n",
    "\n",
    "plt.subplot(1,3,3)\n",
    "plt.hist(bias3, bins)\n",
    "plt.show()"
   ]
  },
  {
   "cell_type": "markdown",
   "metadata": {},
   "source": [
    "**What happens with the approximation to the normal distribution when ϕ approaches 1?**"
   ]
  },
  {
   "cell_type": "code",
   "execution_count": 17,
   "metadata": {},
   "outputs": [
    {
     "data": {
      "image/png": "[encoded data removed]",
      "text/plain": [
       "<Figure size 432x288 with 3 Axes>"
      ]
     },
     "metadata": {},
     "output_type": "display_data"
    }
   ],
   "source": [
    "#QQPLOT\n",
    "plt.figure\n",
    "plt.subplots_adjust(top=0.9, bottom=0, left=0.3, right=2, wspace=0.5)\n",
    "\n",
    "plt.subplot(1,3,1)\n",
    "stats.probplot(phi_1, dist=\"norm\", plot=pylab)\n",
    "plt.title('Phi=0.3')\n",
    "\n",
    "plt.subplot(1,3,2)\n",
    "stats.probplot(phi_2, dist=\"norm\", plot=pylab)\n",
    "plt.title('Phi=0.8')\n",
    "\n",
    "plt.subplot(1,3,3)\n",
    "stats.probplot(phi_3, dist=\"norm\", plot=pylab)\n",
    "plt.title('Phi=0.98')\n",
    "\n",
    "pylab.show()"
   ]
  },
  {
   "cell_type": "markdown",
   "metadata": {},
   "source": [
    "Clearly, when the true parameter value approaches one, the distribution departs from a normal."
   ]
  }
 ],
 "metadata": {
  "kernelspec": {
   "display_name": "Python 3",
   "language": "python",
   "name": "python3"
  },
  "language_info": {
   "codemirror_mode": {
    "name": "ipython",
    "version": 3
   },
   "file_extension": ".py",
   "mimetype": "text/x-python",
   "name": "python",
   "nbconvert_exporter": "python",
   "pygments_lexer": "ipython3",
   "version": "3.6.5"
  }
 },
 "nbformat": 4,
 "nbformat_minor": 2
}
